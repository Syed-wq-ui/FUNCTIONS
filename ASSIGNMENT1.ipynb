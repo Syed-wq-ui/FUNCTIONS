{
  "nbformat": 4,
  "nbformat_minor": 0,
  "metadata": {
    "colab": {
      "provenance": []
    },
    "kernelspec": {
      "name": "python3",
      "display_name": "Python 3"
    },
    "language_info": {
      "name": "python"
    }
  },
  "cells": [
    {
      "cell_type": "code",
      "execution_count": null,
      "metadata": {
        "id": "Lgdw_F-ZOl2s"
      },
      "outputs": [],
      "source": []
    },
    {
      "cell_type": "markdown",
      "source": [
        "# New Section"
      ],
      "metadata": {
        "id": "Vv1QAjhFO3Co"
      }
    },
    {
      "cell_type": "markdown",
      "source": [
        "\n"
      ],
      "metadata": {
        "id": "nCx5wom9O4mo"
      }
    },
    {
      "cell_type": "markdown",
      "source": [
        "# FUNCTIONS\n"
      ],
      "metadata": {
        "id": "oy4fgQ2yPB-Z"
      }
    },
    {
      "cell_type": "markdown",
      "source": [
        "1. WHAT IS DIFFERNECE BETWEEN FUNCTION AND METHOD\n",
        "  -> FUNCTION IS FUNCTION AND METHOD IS METHOD\n",
        "\n",
        "2. WHAT IS CELL\n",
        "  -> IT IS ELEMENT\n"
      ],
      "metadata": {
        "id": "BLwqCzMlPK-q"
      }
    },
    {
      "cell_type": "code",
      "source": [
        "#FKMBKMGKGM\n",
        "GKTKKT"
      ],
      "metadata": {
        "id": "FNbZqjZFQJmb"
      },
      "execution_count": null,
      "outputs": []
    },
    {
      "cell_type": "markdown",
      "source": [],
      "metadata": {
        "id": "4rk2j0_sPtck"
      }
    }
  ]
}